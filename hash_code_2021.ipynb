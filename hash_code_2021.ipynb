{
  "nbformat": 4,
  "nbformat_minor": 0,
  "metadata": {
    "colab": {
      "name": "hash-code-2021",
      "provenance": [],
      "collapsed_sections": []
    },
    "kernelspec": {
      "name": "python3",
      "display_name": "Python 3"
    }
  },
  "cells": [
    {
      "cell_type": "code",
      "metadata": {
        "id": "qsYCZNDfNjCg"
      },
      "source": [
        "with open('test.csv', 'w') as f:\r\n",
        "  f.write('Hello World! 2')"
      ],
      "execution_count": null,
      "outputs": []
    },
    {
      "cell_type": "code",
      "metadata": {
        "colab": {
          "base_uri": "https://localhost:8080/"
        },
        "id": "6f5mu9XrRxZD",
        "outputId": "14c779f4-8138-4edb-d266-0d219b02e146"
      },
      "source": [
        "with open('test.csv', 'r') as f:\n",
        "  inp = f.read()\n",
        "  print(inp)"
      ],
      "execution_count": null,
      "outputs": [
        {
          "output_type": "stream",
          "text": [
            "Hello World! 2\n"
          ],
          "name": "stdout"
        }
      ]
    },
    {
      "cell_type": "code",
      "metadata": {
        "id": "WZUCT2kYoyw2"
      },
      "source": [
        "import copy\n",
        "PROBLEM_ID = 'b'"
      ],
      "execution_count": null,
      "outputs": []
    },
    {
      "cell_type": "code",
      "metadata": {
        "id": "FihOrK_FRyJe",
        "colab": {
          "base_uri": "https://localhost:8080/"
        },
        "outputId": "6327ab08-4a91-407d-bd16-42c0d548fa83"
      },
      "source": [
        "# Serghei\n",
        "import random\n",
        "\n",
        "class Street:\n",
        "  def __init__(self, cars, int_start, int_end, name, time):\n",
        "    self.cars = cars\n",
        "    self.int_start = int_start \n",
        "    self.int_end = int_end \n",
        "    self.name = name \n",
        "    self.time = time\n",
        "\n",
        "class Car:\n",
        "  def __init__(self, n_streets, route):\n",
        "    self.n_streets = n_streets\n",
        "    self.route = route \n",
        "\n",
        "f_read = open('data/'+ PROBLEM_ID + '.txt', 'r')\n",
        "\n",
        "duration, n_intersec, n_streets, n_cars, bonus_points = map(int, f_read.readline().split(' '))\n",
        "\n",
        "print(duration, n_intersec, n_streets, n_cars, bonus_points)\n",
        "\n",
        "streets = {}\n",
        "\n",
        "# essentially intersections but with time per street\n",
        "schedule = []\n",
        "\n",
        "for i in range(n_intersec):\n",
        "  schedule.append({})\n",
        "\n",
        "for i in range(n_streets):\n",
        "  int_start, int_end, name, time =  f_read.readline().split(' ')\n",
        "  int_start, int_end, time = map(int, (int_start, int_end, time))\n",
        "\n",
        "  cars = []\n",
        "\n",
        "  streets[name] = Street(cars, int_start, int_end, name, time)\n",
        "\n",
        "  schedule[int_end][name] = random.randint(1, 10) # initialize at 0 seconds\n",
        "  # print(schedule, int_end)\n",
        "\n",
        "print(n_cars)\n",
        "for i in range(n_cars):\n",
        "  n_streets, *route = f_read.readline()[:-1].split(' ')\n",
        "  # print(route)\n",
        "  n_streets = int(n_streets)\n",
        "  car = Car(n_streets, route)\n",
        "\n",
        "  first_street = route[0]\n",
        "  # print(first_street)\n",
        "  streets[first_street].cars.append(car)\n",
        "  # print(streets[first_street].cars)\n"
      ],
      "execution_count": null,
      "outputs": [
        {
          "output_type": "stream",
          "text": [
            "5070 7073 9102 1000 1000\n",
            "1000\n"
          ],
          "name": "stdout"
        }
      ]
    },
    {
      "cell_type": "code",
      "metadata": {
        "id": "HOFDEasOxN5j"
      },
      "source": [
        "# streets_copy_safe = streets.copy()\n",
        "# schedule_copy_safe = schedule.copy()"
      ],
      "execution_count": null,
      "outputs": []
    },
    {
      "cell_type": "code",
      "metadata": {
        "id": "CWAY-yuaj3y5"
      },
      "source": [
        "# Run simulation\n",
        "def run_simulation(duration, bonus_points, streets, schedule):\n",
        "  streets_copy = copy.deepcopy(streets)\n",
        "  schedule_copy = copy.deepcopy(schedule)\n",
        "\n",
        "  score = 0\n",
        "\n",
        "  avg_time_per_street = {}\n",
        "  for street in streets:\n",
        "    avg_time_per_street[street] = 0\n",
        "\n",
        "  for t in range(duration):\n",
        "    for intersec_index in range(len(schedule_copy)):\n",
        "      print(t, intersec_index)\n",
        "      cycle_duration = sum(schedule_copy[intersec_index].values())\n",
        "\n",
        "      rem_time = t % cycle_duration\n",
        "\n",
        "      green_street = ''\n",
        "\n",
        "      for street in schedule_copy[intersec_index].keys():\n",
        "        avg_time_per_street[street] = (avg_time_per_street[street]*(t) + len(streets_copy[street].cars))/(t+1)\n",
        "\n",
        "        rem_time -= schedule_copy[intersec_index][street]\n",
        "\n",
        "        if rem_time <= 0: \n",
        "          green_street = street\n",
        "          break\n",
        "\n",
        "      if len(streets_copy[green_street].cars) == 0:\n",
        "        continue\n",
        "      car_to_move = streets_copy[green_street].cars.pop(0)\n",
        "      next_street = car_to_move.route.pop(0)\n",
        "      if len(car_to_move.route) == 0:\n",
        "        score += bonus_points + duration - t - 1\n",
        "      else: \n",
        "        streets_copy[next_street].cars.append(car_to_move)\n",
        "\n",
        "  print({k: v for k, v in sorted(avg_time_per_street.items(), key=lambda item: -item[1])})\n",
        "  return score\n",
        "\n",
        "# score = run_simulation(duration, bonus_points, streets, schedule)\n",
        "\n",
        "# print(score)\n",
        "\n"
      ],
      "execution_count": null,
      "outputs": []
    },
    {
      "cell_type": "code",
      "metadata": {
        "id": "vsGZHlG0zRbr"
      },
      "source": [
        "# Preset schedule\n",
        "def preset_schedule(streets, schedule):\n",
        "  streets_copy_safe = streets.copy()\n",
        "  schedule_copy = copy.deepcopy(schedule)\n",
        "  normalization = 50 # cycle should take up to...\n",
        "  streets_car_count = {}\n",
        "  for street in streets.values():\n",
        "    for car in street.cars:\n",
        "      for street_on_route in car.route:\n",
        "        if street_on_route in streets_car_count:\n",
        "          streets_car_count[street_on_route] += 1\n",
        "        else: \n",
        "          streets_car_count[street_on_route] = 0\n",
        "\n",
        "  print(list(reversed(sorted(list(streets_car_count.values())))))\n",
        "\n",
        "  for intersec_index in range(len(schedule_copy)):\n",
        "    non_normalized_cycle_duration = 0\n",
        "    for street in schedule_copy[intersec_index].keys():\n",
        "      if street in streets_car_count:\n",
        "        non_normalized_cycle_duration += int(streets_car_count[street] ** 1)\n",
        "    \n",
        "    for street in list(schedule_copy[intersec_index].keys()):\n",
        "      if street in streets_car_count:\n",
        "        schedule_copy[intersec_index][street] =  streets_car_count[street] * normalization // (non_normalized_cycle_duration + 1)\n",
        "      if schedule_copy[intersec_index][street] == 0 and len(schedule_copy[intersec_index]) > 1:\n",
        "        schedule_copy[intersec_index].pop(street, None)\n",
        "      if len(schedule_copy[intersec_index]) == 1:\n",
        "        street = list(schedule_copy[intersec_index].keys())[0]\n",
        "        schedule_copy[intersec_index][street] = 1\n",
        "\n",
        "    \n",
        "  return schedule_copy\n",
        "\n",
        "# naive_preset_schedule = preset_schedule(streets, schedule)\n",
        "# schedule_to_output = naive_preset_schedule\n",
        "\n",
        "# score_preset = run_simulation(duration, bonus_points, streets, naive_preset_schedule)\n",
        "\n",
        "# print(score)"
      ],
      "execution_count": null,
      "outputs": []
    },
    {
      "cell_type": "code",
      "metadata": {
        "id": "PQTVYszO1VpL"
      },
      "source": [
        "# Optimize schedule\n",
        "# def optimize_schedule(duration, bonus_points, streets, schedule):\n",
        "#   for "
      ],
      "execution_count": null,
      "outputs": []
    },
    {
      "cell_type": "code",
      "metadata": {
        "id": "H33_fjvHo4Bf"
      },
      "source": [
        "# Schedule to output\n",
        "def schedule_to_output_file(schedule):\n",
        "  f_write = open('output/'+ PROBLEM_ID + '.txt', 'w')\n",
        "\n",
        "  f_write.write(str(len(schedule)) + ' \\n')\n",
        "\n",
        "  for intersec_index in range(len(schedule)):\n",
        "    f_write.write(str(intersec_index) + ' \\n')\n",
        "\n",
        "    n_streets = len(schedule[intersec_index])\n",
        "    f_write.write(str(n_streets) + ' \\n')\n",
        "\n",
        "    for street_name in schedule[intersec_index].keys():\n",
        "      f_write.write(street_name + ' ' + str(schedule[intersec_index][street_name]) + ' \\n')\n",
        "\n",
        "schedule_to_output_file(schedule)"
      ],
      "execution_count": null,
      "outputs": []
    },
    {
      "cell_type": "code",
      "metadata": {
        "id": "e-rWLWLWtAeC"
      },
      "source": [
        ""
      ],
      "execution_count": null,
      "outputs": []
    }
  ]
}